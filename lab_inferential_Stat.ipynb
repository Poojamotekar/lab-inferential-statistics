{
 "cells": [
  {
   "cell_type": "markdown",
   "id": "ff99bb1c-53d6-46f4-ad07-290f9bf1f505",
   "metadata": {},
   "source": [
    "### Instructions\r\n",
    "It is assumed that the mean systolic blood pressure is μ = 120 mm Hg. In the Honolulu Heart Study, a sample of n = 100 people had an average systolic blood pressure of 130.1 mm Hg with a standard deviation of 21.21 mm Hg. Is the group significantly different (with respect to systolic blood pressure!) from the regular population?\r\n",
    "\r\n",
    "Set up the hypothesis test.\r\n",
    "Write down all the steps followed for setting up the test.\r\n",
    "Calculate the test statistic by hand and also code it in Python. It should be 4.76190. We will take a look at how to make decisions based on this calculated valder ."
   ]
  },
  {
   "cell_type": "code",
   "execution_count": 14,
   "id": "8714ab61-f475-4c14-af48-f86e7be6491c",
   "metadata": {},
   "outputs": [],
   "source": [
    "#Libraries\n",
    "import math\n",
    "import pandas as pd\n",
    "import numpy as np\n",
    "import matplotlib.pyplot as plt\n",
    "import scipy.stats as st"
   ]
  },
  {
   "cell_type": "code",
   "execution_count": 16,
   "id": "a83e3a2f-0ce0-4942-b266-1b8644e03914",
   "metadata": {},
   "outputs": [
    {
     "name": "stdout",
     "output_type": "stream",
     "text": [
      "Test statistic (Z): 4.76190\n"
     ]
    }
   ],
   "source": [
    "sample_mean = 130.1\n",
    "pop_mean = 120\n",
    "pop_std = 21.21\n",
    "n = 100\n",
    "\n",
    "statistic = (sample_mean - pop_mean)/(pop_std/math.sqrt(n))\n",
    "print(f\"Test statistic (Z): {statistic:.5f}\")\n",
    "#statistic"
   ]
  },
  {
   "cell_type": "code",
   "execution_count": 17,
   "id": "3eb5cdeb-4d09-4f04-a5cd-315effb4b017",
   "metadata": {},
   "outputs": [
    {
     "data": {
      "text/plain": [
       "9.588709444976228e-07"
      ]
     },
     "execution_count": 17,
     "metadata": {},
     "output_type": "execute_result"
    }
   ],
   "source": [
    "p_value = st.norm.sf(abs(statistic)) #one-sided\n",
    "p_value"
   ]
  },
  {
   "cell_type": "code",
   "execution_count": 18,
   "id": "6692274c-96f6-4da1-a589-476d0774fde0",
   "metadata": {},
   "outputs": [
    {
     "data": {
      "text/plain": [
       "-1.6448536269514729"
      ]
     },
     "execution_count": 18,
     "metadata": {},
     "output_type": "execute_result"
    }
   ],
   "source": [
    "cv = st.norm.ppf(.05)\n",
    "cv"
   ]
  },
  {
   "cell_type": "markdown",
   "id": "f7bf5f5a-597e-4a7c-bbd3-4ea10241edd1",
   "metadata": {},
   "source": [
    "### Hypotheses:\n",
    "\n",
    "1)Null Hypothesis (H₀): The mean systolic blood pressure of the Honolulu Heart Study group is equal to the regular population mean (μ = 120 mm Hg).\n",
    "Alternative Hypothesis (Hₐ): The mean systolic blood pressure of the Honolulu Heart Study group is different from the regular population mean (μ ≠ 120 mm Hg).\n",
    "\n",
    "2)Significance Level (α):\n",
    "\n",
    "  We need to choose a significance level (α) to determine the critical region. Common choices are 0.05 or 0.01.\n",
    "\n",
    "3)Test Statistic:\n",
    "\n",
    " We’ll use the Z-test for comparing means. The test statistic for testing the difference in means is given by:\n",
    "\n",
    "Z=n​σ​xˉ−μ​\n",
    "where:\n",
    "- ( \\bar{x} ) is the sample mean (130.1 mm Hg in this case).\n",
    "- ( \\mu ) is the hypothesized population mean (120 mm Hg).\n",
    "- ( \\sigma ) is the population standard deviation (unknown, so we’ll use the sample standard deviation).\n",
    "- ( n ) is the sample size (100).\n",
    "\n",
    "\n",
    "4)Calculate the Test Statistic:\n",
    "\n",
    "Using the given values:\n",
    "\n",
    "Sample mean (x) bar = 130.1 mm Hg\n",
    "Population mean (mu)= 120 mm Hg\n",
    "Sample standard deviation ( s ) = 21.21 mm Hg\n",
    "Sample size ( n ) = 100\n",
    "\n",
    "\n",
    "5)Calculate the test statistic:Z\n",
    "\n",
    "Decision Rule:\n",
    "\n",
    "If the absolute value of the test statistic (4.76190) is greater than the critical value (which depends on the chosen significance level and the type of test), we reject the null hypothesis.\n",
    "Otherwise, we fail to reject the null hypothesis.\n",
    "\n",
    "Make a Decision:\n",
    "\n",
    "Compare the calculated test statistic (4.76190) with the critical value (from the Z-table or statistical software).\n",
    "If ( |Z| > Z_alpha/2} ), reject the null hypothesis.\n",
    "Otherwise, fail to reject the null hypothesis."
   ]
  },
  {
   "cell_type": "markdown",
   "id": "2f2c04d5-9667-4b81-8758-fb850f778ca2",
   "metadata": {},
   "source": [
    "#### a) Conclusions comparing statistic with the critical region\n",
    "* If the test statistic falls in the critical region, then we reject the Null Hypothesis\n",
    "* If the test statistic falls in the region between the critical region, then we fail to reject the Null Hypothesis."
   ]
  },
  {
   "cell_type": "markdown",
   "id": "609a2d1d-a64a-4824-af8c-ec14e7717c92",
   "metadata": {},
   "source": [
    "#### b) Conclusions comparting p-value with alpha"
   ]
  },
  {
   "cell_type": "markdown",
   "id": "0e85c224-1a11-41fa-a5be-45d967abb5ce",
   "metadata": {},
   "source": [
    "- p_values = scipy.stats.norm.sf(abs(z_scores)) #one-sided\n",
    "\n",
    "- p_values = scipy.stats.norm.sf(abs(z_scores))*2 #twosided"
   ]
  },
  {
   "cell_type": "code",
   "execution_count": 22,
   "id": "82ed2578-397a-4429-a01b-81427f588a15",
   "metadata": {},
   "outputs": [
    {
     "name": "stdout",
     "output_type": "stream",
     "text": [
      "Reject the null hypothesis\n"
     ]
    }
   ],
   "source": [
    "# Given critical value\n",
    "critical_value = 1.6448536269514729\n",
    "\n",
    "# Make a decision\n",
    "if abs(Z) > critical_value:\n",
    "    print(\"Reject the null hypothesis\")\n",
    "else:\n",
    "    print(\"Fail to reject the null hypothesis\")\n"
   ]
  },
  {
   "cell_type": "markdown",
   "id": "e0fd23b9-0169-41c4-ab34-5cacd7bc0a98",
   "metadata": {},
   "source": [
    "**Conclusions**\n",
    "\n",
    "Looking at the table, we see the critical value for one-tailed alpha 0.05 is (-)1.6448536269514729. <br>\n",
    "This means that there is sufficient evidence to conclude that the mean systolic blood pressure of the Honolulu Heart Study group is significantly different from the regular population mean.\r",
    "\r\n",
    "In other words, the group from the Honolulu Heart Study indeed exhibits a notable difference in systolic blood pressure compared to the general population. "
   ]
  },
  {
   "cell_type": "code",
   "execution_count": null,
   "id": "bcc2f3db-61fe-4052-ba62-3e3f28e98c0e",
   "metadata": {},
   "outputs": [],
   "source": []
  }
 ],
 "metadata": {
  "kernelspec": {
   "display_name": "Python 3 (ipykernel)",
   "language": "python",
   "name": "python3"
  },
  "language_info": {
   "codemirror_mode": {
    "name": "ipython",
    "version": 3
   },
   "file_extension": ".py",
   "mimetype": "text/x-python",
   "name": "python",
   "nbconvert_exporter": "python",
   "pygments_lexer": "ipython3",
   "version": "3.11.7"
  }
 },
 "nbformat": 4,
 "nbformat_minor": 5
}
